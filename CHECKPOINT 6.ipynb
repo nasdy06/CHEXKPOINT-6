{
 "cells": [
  {
   "cell_type": "markdown",
   "id": "0e907018",
   "metadata": {},
   "source": [
    "# Q1"
   ]
  },
  {
   "cell_type": "code",
   "execution_count": 2,
   "id": "132931ef",
   "metadata": {},
   "outputs": [
    {
     "data": {
      "text/plain": [
       "[1, 2, 3, 4, 5]"
      ]
     },
     "execution_count": 2,
     "metadata": {},
     "output_type": "execute_result"
    }
   ],
   "source": [
    "import numpy as np\n",
    "t=np.array([1,2,3,4,5])\n",
    "q=t.tolist()\n",
    "q"
   ]
  },
  {
   "cell_type": "markdown",
   "id": "8bf6bff3",
   "metadata": {},
   "source": [
    "# Q2"
   ]
  },
  {
   "cell_type": "code",
   "execution_count": 3,
   "id": "64c2ad4d",
   "metadata": {},
   "outputs": [
    {
     "data": {
      "text/plain": [
       "15"
      ]
     },
     "execution_count": 3,
     "metadata": {},
     "output_type": "execute_result"
    }
   ],
   "source": [
    "s=np.array([[1,2,3],[4,5,6],[7,8,9]])\n",
    "r=np.trace(s)\n",
    "r"
   ]
  },
  {
   "cell_type": "code",
   "execution_count": 4,
   "id": "1bd021fa",
   "metadata": {},
   "outputs": [
    {
     "data": {
      "text/plain": [
       "15"
      ]
     },
     "execution_count": 4,
     "metadata": {},
     "output_type": "execute_result"
    }
   ],
   "source": [
    "a=s.diagonal()\n",
    "b=a.tolist()\n",
    "z=0\n",
    "for i in range (len(b)):\n",
    "    z=b[i]+z\n",
    "z"
   ]
  },
  {
   "cell_type": "markdown",
   "id": "32dc5a4e",
   "metadata": {},
   "source": [
    "# Q3"
   ]
  },
  {
   "cell_type": "code",
   "execution_count": 5,
   "id": "e9d2d488",
   "metadata": {
    "scrolled": true
   },
   "outputs": [
    {
     "name": "stdout",
     "output_type": "stream",
     "text": [
      "La valeurs est 23\n",
      "La valeurs est 8\n",
      "La valeurs est 6\n",
      "La valeurs est 9\n",
      "La valeurs est 18\n"
     ]
    }
   ],
   "source": [
    "x=np.array([[1,23,8],[6,9,18]])\n",
    "mini=5\n",
    "for i in range (x.shape[0]):\n",
    "    for j in range (x.shape[1]):\n",
    "        if x[i][j]>mini:\n",
    "            print (\"La valeurs est\",x[i][j])"
   ]
  },
  {
   "cell_type": "markdown",
   "id": "271e39ca",
   "metadata": {},
   "source": [
    "# Q4"
   ]
  },
  {
   "cell_type": "code",
   "execution_count": 7,
   "id": "27694729",
   "metadata": {},
   "outputs": [
    {
     "data": {
      "text/plain": [
       "array([[ 6, 13],\n",
       "       [16, 12]])"
      ]
     },
     "execution_count": 7,
     "metadata": {},
     "output_type": "execute_result"
    }
   ],
   "source": [
    "m=np.array([[1,7],[9,4]])\n",
    "y=np.array([[5,6],[7,8]])\n",
    "o=np.add(m,y)\n",
    "o"
   ]
  },
  {
   "cell_type": "markdown",
   "id": "e3d28e3e",
   "metadata": {},
   "source": [
    "# Q5"
   ]
  },
  {
   "cell_type": "code",
   "execution_count": 14,
   "id": "70f6d83d",
   "metadata": {},
   "outputs": [
    {
     "data": {
      "text/plain": [
       "array([3., 7.])"
      ]
     },
     "execution_count": 14,
     "metadata": {},
     "output_type": "execute_result"
    }
   ],
   "source": [
    "v=np.array([[1,5,3],[8,9,4]])\n",
    "g=np.mean(v,axis=1)\n",
    "g"
   ]
  },
  {
   "cell_type": "code",
   "execution_count": null,
   "id": "fd133c63",
   "metadata": {},
   "outputs": [],
   "source": []
  }
 ],
 "metadata": {
  "kernelspec": {
   "display_name": "Python 3 (ipykernel)",
   "language": "python",
   "name": "python3"
  },
  "language_info": {
   "codemirror_mode": {
    "name": "ipython",
    "version": 3
   },
   "file_extension": ".py",
   "mimetype": "text/x-python",
   "name": "python",
   "nbconvert_exporter": "python",
   "pygments_lexer": "ipython3",
   "version": "3.9.12"
  }
 },
 "nbformat": 4,
 "nbformat_minor": 5
}
